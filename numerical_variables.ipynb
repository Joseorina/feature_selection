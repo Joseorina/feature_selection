{
 "cells": [
  {
   "cell_type": "markdown",
   "metadata": {},
   "source": [
    "### peer to peer lending"
   ]
  },
  {
   "cell_type": "code",
   "execution_count": 2,
   "metadata": {},
   "outputs": [],
   "source": [
    "import pandas as pd\n",
    "import numpy as np\n",
    "\n",
    "import matplotlib.pyplot as plt\n",
    "%matplotlib inline"
   ]
  },
  {
   "cell_type": "code",
   "execution_count": 6,
   "metadata": {},
   "outputs": [
    {
     "data": {
      "text/html": [
       "<div>\n",
       "<style scoped>\n",
       "    .dataframe tbody tr th:only-of-type {\n",
       "        vertical-align: middle;\n",
       "    }\n",
       "\n",
       "    .dataframe tbody tr th {\n",
       "        vertical-align: top;\n",
       "    }\n",
       "\n",
       "    .dataframe thead th {\n",
       "        text-align: right;\n",
       "    }\n",
       "</style>\n",
       "<table border=\"1\" class=\"dataframe\">\n",
       "  <thead>\n",
       "    <tr style=\"text-align: right;\">\n",
       "      <th></th>\n",
       "      <th>loan_amnt</th>\n",
       "      <th>int_rate</th>\n",
       "      <th>annual_inc</th>\n",
       "      <th>loan_status</th>\n",
       "      <th>open_acc</th>\n",
       "      <th>open_il_12m</th>\n",
       "    </tr>\n",
       "  </thead>\n",
       "  <tbody>\n",
       "    <tr>\n",
       "      <td>70642</td>\n",
       "      <td>12000</td>\n",
       "      <td>10.33</td>\n",
       "      <td>115000.0</td>\n",
       "      <td>Current</td>\n",
       "      <td>10.0</td>\n",
       "      <td>2.0</td>\n",
       "    </tr>\n",
       "    <tr>\n",
       "      <td>490788</td>\n",
       "      <td>20000</td>\n",
       "      <td>11.99</td>\n",
       "      <td>19200.0</td>\n",
       "      <td>Current</td>\n",
       "      <td>9.0</td>\n",
       "      <td>0.0</td>\n",
       "    </tr>\n",
       "    <tr>\n",
       "      <td>2081591</td>\n",
       "      <td>35000</td>\n",
       "      <td>18.25</td>\n",
       "      <td>153619.0</td>\n",
       "      <td>Charged Off</td>\n",
       "      <td>27.0</td>\n",
       "      <td>NaN</td>\n",
       "    </tr>\n",
       "    <tr>\n",
       "      <td>900431</td>\n",
       "      <td>8000</td>\n",
       "      <td>7.99</td>\n",
       "      <td>67000.0</td>\n",
       "      <td>Fully Paid</td>\n",
       "      <td>10.0</td>\n",
       "      <td>1.0</td>\n",
       "    </tr>\n",
       "    <tr>\n",
       "      <td>781582</td>\n",
       "      <td>17000</td>\n",
       "      <td>9.16</td>\n",
       "      <td>50000.0</td>\n",
       "      <td>Fully Paid</td>\n",
       "      <td>9.0</td>\n",
       "      <td>0.0</td>\n",
       "    </tr>\n",
       "  </tbody>\n",
       "</table>\n",
       "</div>"
      ],
      "text/plain": [
       "         loan_amnt  int_rate  annual_inc  loan_status  open_acc  open_il_12m\n",
       "70642        12000     10.33    115000.0      Current      10.0          2.0\n",
       "490788       20000     11.99     19200.0      Current       9.0          0.0\n",
       "2081591      35000     18.25    153619.0  Charged Off      27.0          NaN\n",
       "900431        8000      7.99     67000.0   Fully Paid      10.0          1.0\n",
       "781582       17000      9.16     50000.0   Fully Paid       9.0          0.0"
      ]
     },
     "execution_count": 6,
     "metadata": {},
     "output_type": "execute_result"
    }
   ],
   "source": [
    "use_cols = [\n",
    "    'loan_amnt', 'int_rate', 'annual_inc', 'open_acc', 'loan_status',\n",
    "    'open_il_12m'\n",
    "]\n",
    "\n",
    "data = pd.read_csv(\n",
    "'data/loan.csv', usecols=use_cols).sample(1000, random_state=44)\n",
    "data.head()"
   ]
  },
  {
   "cell_type": "markdown",
   "metadata": {},
   "source": [
    "## Continous variable"
   ]
  },
  {
   "cell_type": "code",
   "execution_count": 7,
   "metadata": {},
   "outputs": [
    {
     "data": {
      "text/plain": [
       "array([12000, 20000, 35000,  8000, 17000, 14000, 10000, 40000,  9000,\n",
       "       16000, 15000,  1500, 22000,  4000, 12800, 17100,  6600, 16250,\n",
       "        3575,  6000, 10200,  3825, 21600,  7000, 10925,  4800, 25000,\n",
       "       18325, 15025,  7150,  9600,  8400,  7500, 16125,  2000, 28100,\n",
       "       29000,  6400, 22800, 20800, 11325,  5000,  8575, 19125, 30400,\n",
       "        2800, 11875,  3600,  8500,  9800, 21000, 30800, 27225,  1450,\n",
       "       36000,  3500, 22650, 23550,  3300, 19200, 34975, 14400,  4475,\n",
       "        2300, 24000, 11000, 30000,  5400, 10400,  8850, 12375, 13600,\n",
       "       24875, 36425,  2400, 15600, 18900,  9875, 28000, 15225, 18000,\n",
       "        7200,  2500, 13975, 11075, 10975, 19000,  3200,  4500, 11200,\n",
       "       13000, 18500, 14125,  7325, 16800, 22150,  2700, 21900,  4900,\n",
       "        8250,  9500,  3000, 27625,  1600, 32000, 13550, 10550, 23000,\n",
       "       21550, 13500, 32350, 20875, 14925, 19500, 11150, 17025,  7800,\n",
       "        1200, 10050, 21100,  8725, 10850, 13200, 20700, 26000, 19600,\n",
       "       11500,  1000,  6350, 27125,  8800, 15375, 18775,  7250, 23025,\n",
       "       13150, 13100, 28500, 34500,  4200, 17250, 18625, 22525, 17625,\n",
       "        3875, 26750,  9175,  9350, 14500, 11550, 11575, 14250,  1800,\n",
       "       32675, 27000, 28775,  5200, 26875, 10800, 11525, 11975,  6025,\n",
       "        8875, 21275, 29325, 12500, 17500, 14375, 15950, 10150, 14425,\n",
       "       30375, 12325, 13450, 15875,  4775,  5500, 31300, 17775,  3400,\n",
       "       34625, 16725, 23225,  1400,  9450, 15350,  5300, 25050,  6100,\n",
       "       14850, 12175,  8775,  9525,  4600, 14550,  6625,  5600,  7550,\n",
       "        3700,  2200, 19950,  6800,  9725, 18950, 27400,  9200, 13825,\n",
       "        5275, 11800,  3650, 15075, 24900, 14975, 39150, 34000, 19925,\n",
       "       12525,  9750,  6500,  9125, 37000, 19525, 14900,  8375, 16500])"
      ]
     },
     "execution_count": 7,
     "metadata": {},
     "output_type": "execute_result"
    }
   ],
   "source": [
    "data.loan_amnt.unique()"
   ]
  },
  {
   "cell_type": "code",
   "execution_count": 8,
   "metadata": {},
   "outputs": [
    {
     "data": {
      "text/plain": [
       "Text(0, 0.5, 'Number of loans')"
      ]
     },
     "execution_count": 8,
     "metadata": {},
     "output_type": "execute_result"
    },
    {
     "data": {
      "image/png": "[encoded data removed]",
      "text/plain": [
       "<Figure size 432x288 with 1 Axes>"
      ]
     },
     "metadata": {
      "needs_background": "light"
     },
     "output_type": "display_data"
    }
   ],
   "source": [
    "fig = data.loan_amnt.hist(bins = 50)\n",
    "fig.set_title('Loan amoint requested')\n",
    "fig.set_xlabel('Loan amount')\n",
    "fig.set_ylabel('Number of loans')"
   ]
  },
  {
   "cell_type": "code",
   "execution_count": 9,
   "metadata": {},
   "outputs": [
    {
     "data": {
      "text/plain": [
       "array([10.33, 11.99, 18.25,  7.99,  9.16,  8.39, 16.91,  9.92, 11.39,\n",
       "        7.59, 15.31, 16.55,  9.93, 12.99,  7.26, 11.06, 10.99, 11.49,\n",
       "       12.29,  9.17,  8.46,  6.49, 12.62,  8.19,  7.49, 15.59, 11.44,\n",
       "       13.99, 17.97, 10.08, 13.67, 13.49, 13.59, 27.79, 15.96, 15.99,\n",
       "       13.35,  6.89, 19.92, 20.39,  9.99, 15.61,  6.67,  7.89, 18.99,\n",
       "       21.85, 12.69, 21.98, 11.47, 15.05, 12.12,  9.67,  6.11, 18.49,\n",
       "       16.29,  7.97, 14.09, 14.65, 14.33, 10.91, 16.01, 16.78, 12.73,\n",
       "       17.99, 22.2 ,  8.24, 10.56, 22.99, 14.49, 15.1 ,  6.62, 14.42,\n",
       "        5.32, 14.08, 14.99,  8.81, 21.99,  5.31, 12.39,  9.71, 11.55,\n",
       "        6.99, 15.49, 22.95, 26.3 , 11.03,  7.07,  7.21, 17.57, 22.35,\n",
       "       23.88, 24.49, 30.17, 16.02, 20.75, 10.16, 10.42,  9.43, 25.83,\n",
       "        7.84, 18.94,  9.44, 19.99, 15.04, 16.99, 17.27,  9.49, 24.08,\n",
       "        8.9 , 30.99, 11.48, 14.72, 17.86,  7.34, 16.14,  8.99, 22.4 ,\n",
       "        6.83,  5.93, 11.98,  8.08, 18.06, 13.56, 14.46, 10.15, 11.22,\n",
       "       21.  , 21.49, 10.47,  8.18, 13.53, 12.13, 17.77, 16.46, 10.75,\n",
       "       10.49, 11.8 , 14.47, 12.79, 12.85, 20.  ,  6.19, 24.85, 25.34,\n",
       "       13.33,  6.03, 27.27, 17.47, 13.18, 26.31, 20.89,  6.68, 12.98,\n",
       "       13.65, 19.03,  7.02,  6.97, 24.84,  6.24, 22.45, 17.56, 18.55,\n",
       "        6.07, 19.52, 14.64, 20.5 , 19.42,  7.9 , 11.53,  7.62, 22.15,\n",
       "       11.14,  7.56,  9.75,  7.69, 24.37, 11.67, 15.02, 20.99,  9.58,\n",
       "       28.72, 13.11, 17.09, 23.7 , 18.85, 23.87, 13.58, 13.66,  7.39,\n",
       "        6.  , 18.45, 14.03, 21.18, 30.49, 19.2 , 12.61,  7.91, 26.24,\n",
       "        6.92, 10.07,  8.38, 20.49, 13.61,  7.96, 28.69, 12.74,  8.67,\n",
       "       25.89,  7.35, 15.22,  6.08, 10.78, 30.84, 12.49, 21.45, 16.59,\n",
       "       29.49, 25.78, 12.42, 14.96, 18.2 , 13.98, 10.72, 21.67, 11.05,\n",
       "       10.65,  9.76,  9.8 , 12.88, 12.59, 24.99,  6.72, 20.2 , 16.2 ,\n",
       "       10.41,  8.59, 12.72, 25.82, 23.99, 13.06,  6.46, 19.16, 26.49,\n",
       "       10.62,  9.25,  7.46, 15.8 , 25.69, 24.5 ,  7.12, 10.9 , 23.83,\n",
       "       11.83, 23.4 , 25.81,  6.39, 19.72])"
      ]
     },
     "execution_count": 9,
     "metadata": {},
     "output_type": "execute_result"
    }
   ],
   "source": [
    "data.int_rate.unique()"
   ]
  },
  {
   "cell_type": "code",
   "execution_count": 10,
   "metadata": {},
   "outputs": [
    {
     "data": {
      "text/plain": [
       "Text(0, 0.5, 'Number of loans')"
      ]
     },
     "execution_count": 10,
     "metadata": {},
     "output_type": "execute_result"
    },
    {
     "data": {
      "image/png": "[encoded data removed]",
      "text/plain": [
       "<Figure size 432x288 with 1 Axes>"
      ]
     },
     "metadata": {
      "needs_background": "light"
     },
     "output_type": "display_data"
    }
   ],
   "source": [
    "fig = data.int_rate.hist(bins=30)\n",
    "fig.set_title = ('Interest rate')\n",
    "fig.set_xlabel('interest rate')\n",
    "fig.set_ylabel('Number of loans')"
   ]
  },
  {
   "cell_type": "code",
   "execution_count": 11,
   "metadata": {},
   "outputs": [
    {
     "data": {
      "text/plain": [
       "array([115000.  ,  19200.  , 153619.  ,  67000.  ,  50000.  ,  52000.  ,\n",
       "        45000.  ,  90000.  ,  40500.  , 145000.  ,  51000.  ,  55000.  ,\n",
       "        49000.  ,  70000.  ,  85000.  ,  65000.  ,  30000.  ,  54000.  ,\n",
       "        75000.  ,  83000.  , 100000.  ,  78000.  ,  40000.  ,  41000.  ,\n",
       "       190000.  ,  35000.  ,  28500.  , 112000.  ,  37900.  , 101000.  ,\n",
       "        58000.  ,  23382.  , 315000.  ,  39520.  ,  33000.  ,  44000.  ,\n",
       "        32000.  ,  98000.  ,  89000.  ,  60000.  ,  77000.  ,  87000.  ,\n",
       "       140000.  ,  45600.  ,  45347.6 ,  59000.  ,  75556.  ,  77800.  ,\n",
       "       106000.  , 115600.  ,  36500.  ,  81000.  , 250000.  , 144500.  ,\n",
       "        36000.  ,  80000.  ,  43196.  ,  78300.  ,  50232.  ,  20000.  ,\n",
       "        38800.  ,  99000.  ,  22000.  ,  95000.  ,  38000.  , 110000.  ,\n",
       "        62000.  , 142000.  ,  42000.  , 120000.  ,  11600.  ,  43500.  ,\n",
       "       126800.  , 138650.  ,  66000.  ,  39000.  , 105000.  , 102000.  ,\n",
       "       160290.  ,  72000.  ,  53000.  , 165000.  , 325000.  , 102500.  ,\n",
       "        43000.  ,  36096.  ,  37500.  ,  46000.  ,  86850.  ,  91000.  ,\n",
       "       175000.  , 123234.  ,  35870.  ,  34000.  ,  25000.  , 118000.  ,\n",
       "        79000.  ,  68000.  ,  32500.  ,  60060.  ,  23880.  ,  74000.  ,\n",
       "       144000.  ,  12000.  ,  40627.  ,  22500.  ,  88000.  , 104000.  ,\n",
       "        29000.  , 102411.  ,      0.  ,  36400.  ,  65800.  ,  19000.  ,\n",
       "        48378.  ,  34549.  , 500000.  ,  31828.  ,  84000.  , 150000.  ,\n",
       "        64000.  ,  86000.  ,  69000.  ,  31044.  ,  47000.  ,  34820.  ,\n",
       "       125000.  ,  24000.  ,  76000.  ,  29462.4 ,  26000.  ,  35592.  ,\n",
       "        82000.  ,  26244.  ,  23000.  ,  33600.  , 231000.  ,  61000.  ,\n",
       "        66273.63, 137000.  ,  37000.  ,  73000.  ,  71500.  , 130000.  ,\n",
       "        83200.  ,  36196.  , 450000.  ,  62100.  ,  31000.  , 100500.  ,\n",
       "        97500.  , 102996.  ,  92686.  ,  63000.  ,  76245.  ,  74900.  ,\n",
       "        56000.  , 153000.  , 113312.  , 204000.  , 116000.  , 281000.  ,\n",
       "        42500.  ,  68879.  ,  57000.  , 220000.  ,  33500.  ,  96000.  ,\n",
       "        37989.  , 180000.  ,  28000.  , 157000.  ,  92000.  , 300000.  ,\n",
       "       123500.  , 146104.  ,  34104.  , 135000.  , 122000.  , 200000.  ,\n",
       "       199000.  , 169250.  ,  65456.23,  37700.  , 155000.  ,  27000.  ,\n",
       "        96800.  , 104600.  ,  36640.  ,  18000.  ,  71000.  , 107302.  ,\n",
       "        47953.13, 118300.  ,  48048.  , 108000.  ,  41600.  , 230000.  ,\n",
       "        71432.  , 225000.  ,  55680.  , 660000.  ,  50307.  ,  93000.  ,\n",
       "        50005.  ,  57600.  , 600000.  , 128500.  ,  30760.  , 400000.  ,\n",
       "       117000.  ,  38400.  , 170210.  , 185000.  , 124500.  ,  96600.  ,\n",
       "        38525.  , 136000.  ,  82500.  ,  87650.  ,  50960.  ,  69500.  ,\n",
       "        35568.  ,  61500.  , 118500.  ,  48000.  ,  19380.  , 156192.  ,\n",
       "        53422.  , 146200.  ,  97000.  , 208500.  ,  35040.  , 111528.  ,\n",
       "        55308.  ,  25056.  , 131000.  ,  27500.  ,  30333.  ,  92200.  ,\n",
       "        83233.  ,  75718.  ,  49900.  ,  70592.  ,  51450.  , 111144.  ,\n",
       "        82600.  ,  10000.  , 113000.  ,   9000.  ,  53654.88, 160000.  ,\n",
       "       103000.  ,  21000.  ,  64497.  ,  39996.  ,  94035.  , 101361.  ,\n",
       "        57500.  , 330000.  ,  40683.  ,  84150.  ,  78529.  ,  59500.  ,\n",
       "        34560.  ,  25015.  , 114000.  , 129863.  , 107876.  , 106652.  ,\n",
       "        27029.  ,  62900.  , 107000.  , 191500.  ,  40578.  , 156400.  ,\n",
       "       145808.  ,  58800.  ,  51920.  ,  65225.  ,  92500.  , 650000.  ,\n",
       "       138000.  ,  44500.  , 240000.  ,  62500.  , 115500.  ,  49431.  ,\n",
       "        49965.  ,  98500.  ,  50112.  ,  27872.  ,  59920.  , 124000.  ,\n",
       "        38500.  ,  35360.  , 550000.  ,  38550.  ,  60954.  ,  86500.  ,\n",
       "        58650.  ])"
      ]
     },
     "execution_count": 11,
     "metadata": {},
     "output_type": "execute_result"
    }
   ],
   "source": [
    "data.annual_inc.unique()"
   ]
  },
  {
   "cell_type": "code",
   "execution_count": 15,
   "metadata": {},
   "outputs": [
    {
     "data": {
      "text/plain": [
       "Text(0, 0.5, 'Number of customers')"
      ]
     },
     "execution_count": 15,
     "metadata": {},
     "output_type": "execute_result"
    },
    {
     "data": {
      "image/png": "[encoded data removed]",
      "text/plain": [
       "<Figure size 432x288 with 1 Axes>"
      ]
     },
     "metadata": {
      "needs_background": "light"
     },
     "output_type": "display_data"
    }
   ],
   "source": [
    "fig = data.annual_inc.hist(bins=50)\n",
    "fig.set_xlim(0, 400000)\n",
    "fig.set_title('Annual income')\n",
    "fig.set_xlabel('Annual income')\n",
    "fig.set_ylabel('Number of customers')"
   ]
  },
  {
   "cell_type": "markdown",
   "metadata": {},
   "source": [
    "### Discrete variables"
   ]
  },
  {
   "cell_type": "code",
   "execution_count": 17,
   "metadata": {},
   "outputs": [
    {
     "data": {
      "text/plain": [
       "array([10.,  9., 27., 12.,  5., 19., 11., 14.,  8., 24., 15.,  7., 26.,\n",
       "       22., 18., 21., 16., 17., 25., 23.,  4.,  6., 30.,  3., 31., 13.,\n",
       "       28., 20., 29., 37.,  1., 35., 36., 44.,  2., 34., 39., 33.])"
      ]
     },
     "execution_count": 17,
     "metadata": {},
     "output_type": "execute_result"
    }
   ],
   "source": [
    "data.open_acc.dropna().unique()"
   ]
  },
  {
   "cell_type": "code",
   "execution_count": 19,
   "metadata": {},
   "outputs": [
    {
     "data": {
      "text/plain": [
       "Text(0, 0.5, 'Number of customers')"
      ]
     },
     "execution_count": 19,
     "metadata": {},
     "output_type": "execute_result"
    },
    {
     "data": {
      "image/png": "[encoded data removed]",
      "text/plain": [
       "<Figure size 432x288 with 1 Axes>"
      ]
     },
     "metadata": {
      "needs_background": "light"
     },
     "output_type": "display_data"
    }
   ],
   "source": [
    "fig = data.open_acc.hist(bins=100)\n",
    "fig.set_xlim(0, 30)\n",
    "fig.set_title('number of open accounts')\n",
    "fig.set_xlabel('Number of open accounts')\n",
    "fig.set_ylabel('Number of customers')"
   ]
  },
  {
   "cell_type": "code",
   "execution_count": 20,
   "metadata": {},
   "outputs": [
    {
     "data": {
      "text/plain": [
       "array([ 2.,  0., nan,  1.,  3.,  5.,  4.,  6.])"
      ]
     },
     "execution_count": 20,
     "metadata": {},
     "output_type": "execute_result"
    }
   ],
   "source": [
    "data.open_il_12m.unique()"
   ]
  },
  {
   "cell_type": "code",
   "execution_count": 21,
   "metadata": {},
   "outputs": [
    {
     "data": {
      "text/plain": [
       "Text(0, 0.5, 'Number of borrowers')"
      ]
     },
     "execution_count": 21,
     "metadata": {},
     "output_type": "execute_result"
    },
    {
     "data": {
      "image/png": "[encoded data removed]",
      "text/plain": [
       "<Figure size 432x288 with 1 Axes>"
      ]
     },
     "metadata": {
      "needs_background": "light"
     },
     "output_type": "display_data"
    }
   ],
   "source": [
    "fig = data.open_il_12m.hist(bins=50)\n",
    "fig.set_title('Number of installements accoinst open in past 12 months')\n",
    "fig.set_xlabel('Number of installements accoinst open in past 12 months')\n",
    "fig.set_ylabel('Number of borrowers')"
   ]
  },
  {
   "cell_type": "markdown",
   "metadata": {},
   "source": [
    "### binary variables\n",
    "discrete variables that can take only 2 values."
   ]
  },
  {
   "cell_type": "code",
   "execution_count": 23,
   "metadata": {},
   "outputs": [
    {
     "data": {
      "text/plain": [
       "array(['Current', 'Charged Off', 'Fully Paid',\n",
       "       'Does not meet the credit policy. Status:Fully Paid',\n",
       "       'Late (16-30 days)', 'Late (31-120 days)', 'In Grace Period'],\n",
       "      dtype=object)"
      ]
     },
     "execution_count": 23,
     "metadata": {},
     "output_type": "execute_result"
    }
   ],
   "source": [
    "data.loan_status.unique()"
   ]
  },
  {
   "cell_type": "code",
   "execution_count": 25,
   "metadata": {},
   "outputs": [
    {
     "data": {
      "text/plain": [
       "0.0"
      ]
     },
     "execution_count": 25,
     "metadata": {},
     "output_type": "execute_result"
    }
   ],
   "source": [
    "data['defaulted'] = np.where(data.loan_status.isin(['Default']), 1, 0)\n",
    "data.defaulted.mean()"
   ]
  },
  {
   "cell_type": "code",
   "execution_count": 27,
   "metadata": {},
   "outputs": [
    {
     "data": {
      "text/html": [
       "<div>\n",
       "<style scoped>\n",
       "    .dataframe tbody tr th:only-of-type {\n",
       "        vertical-align: middle;\n",
       "    }\n",
       "\n",
       "    .dataframe tbody tr th {\n",
       "        vertical-align: top;\n",
       "    }\n",
       "\n",
       "    .dataframe thead th {\n",
       "        text-align: right;\n",
       "    }\n",
       "</style>\n",
       "<table border=\"1\" class=\"dataframe\">\n",
       "  <thead>\n",
       "    <tr style=\"text-align: right;\">\n",
       "      <th></th>\n",
       "      <th>loan_amnt</th>\n",
       "      <th>int_rate</th>\n",
       "      <th>annual_inc</th>\n",
       "      <th>loan_status</th>\n",
       "      <th>open_acc</th>\n",
       "      <th>open_il_12m</th>\n",
       "      <th>defaulted</th>\n",
       "    </tr>\n",
       "  </thead>\n",
       "  <tbody>\n",
       "    <tr>\n",
       "      <td>1822607</td>\n",
       "      <td>13975</td>\n",
       "      <td>19.72</td>\n",
       "      <td>41000.0</td>\n",
       "      <td>Charged Off</td>\n",
       "      <td>22.0</td>\n",
       "      <td>NaN</td>\n",
       "      <td>0</td>\n",
       "    </tr>\n",
       "    <tr>\n",
       "      <td>1439433</td>\n",
       "      <td>6000</td>\n",
       "      <td>7.49</td>\n",
       "      <td>45000.0</td>\n",
       "      <td>Current</td>\n",
       "      <td>11.0</td>\n",
       "      <td>0.0</td>\n",
       "      <td>0</td>\n",
       "    </tr>\n",
       "    <tr>\n",
       "      <td>1241394</td>\n",
       "      <td>6000</td>\n",
       "      <td>9.17</td>\n",
       "      <td>125000.0</td>\n",
       "      <td>Fully Paid</td>\n",
       "      <td>19.0</td>\n",
       "      <td>NaN</td>\n",
       "      <td>0</td>\n",
       "    </tr>\n",
       "    <tr>\n",
       "      <td>2070089</td>\n",
       "      <td>11000</td>\n",
       "      <td>10.99</td>\n",
       "      <td>83000.0</td>\n",
       "      <td>Fully Paid</td>\n",
       "      <td>14.0</td>\n",
       "      <td>NaN</td>\n",
       "      <td>0</td>\n",
       "    </tr>\n",
       "    <tr>\n",
       "      <td>929137</td>\n",
       "      <td>16500</td>\n",
       "      <td>12.79</td>\n",
       "      <td>58650.0</td>\n",
       "      <td>Current</td>\n",
       "      <td>13.0</td>\n",
       "      <td>0.0</td>\n",
       "      <td>0</td>\n",
       "    </tr>\n",
       "  </tbody>\n",
       "</table>\n",
       "</div>"
      ],
      "text/plain": [
       "         loan_amnt  int_rate  annual_inc  loan_status  open_acc  open_il_12m  \\\n",
       "1822607      13975     19.72     41000.0  Charged Off      22.0          NaN   \n",
       "1439433       6000      7.49     45000.0      Current      11.0          0.0   \n",
       "1241394       6000      9.17    125000.0   Fully Paid      19.0          NaN   \n",
       "2070089      11000     10.99     83000.0   Fully Paid      14.0          NaN   \n",
       "929137       16500     12.79     58650.0      Current      13.0          0.0   \n",
       "\n",
       "         defaulted  \n",
       "1822607          0  \n",
       "1439433          0  \n",
       "1241394          0  \n",
       "2070089          0  \n",
       "929137           0  "
      ]
     },
     "execution_count": 27,
     "metadata": {},
     "output_type": "execute_result"
    }
   ],
   "source": [
    "data.tail()"
   ]
  },
  {
   "cell_type": "code",
   "execution_count": 28,
   "metadata": {},
   "outputs": [
    {
     "data": {
      "text/plain": [
       "array([0])"
      ]
     },
     "execution_count": 28,
     "metadata": {},
     "output_type": "execute_result"
    }
   ],
   "source": [
    "data.defaulted.unique()"
   ]
  },
  {
   "cell_type": "code",
   "execution_count": null,
   "metadata": {},
   "outputs": [],
   "source": [
    "fig = data.defaulted.hist()\n",
    "fig.set_xlim(0, 2)\n",
    "fig.set_title('Defaulted accounts')\n",
    "fig.set_xlabel('Defaulted')\n",
    "fig.set_ylab"
   ]
  }
 ],
 "metadata": {
  "kernelspec": {
   "display_name": "Python 3",
   "language": "python",
   "name": "python3"
  },
  "language_info": {
   "codemirror_mode": {
    "name": "ipython",
    "version": 3
   },
   "file_extension": ".py",
   "mimetype": "text/x-python",
   "name": "python",
   "nbconvert_exporter": "python",
   "pygments_lexer": "ipython3",
   "version": "3.7.4"
  }
 },
 "nbformat": 4,
 "nbformat_minor": 2
}
