{
 "cells": [
  {
   "cell_type": "markdown",
   "metadata": {},
   "source": [
    "### peer to peer lending"
   ]
  },
  {
   "cell_type": "code",
   "execution_count": 2,
   "metadata": {},
   "outputs": [],
   "source": [
    "import pandas as pd\n",
    "import numpy as np\n",
    "\n",
    "import matplotlib.pyplot as plt\n",
    "%matplotlib inline"
   ]
  },
  {
   "cell_type": "code",
   "execution_count": 30,
   "metadata": {},
   "outputs": [
    {
     "data": {
      "text/html": [
       "<div>\n",
       "<style scoped>\n",
       "    .dataframe tbody tr th:only-of-type {\n",
       "        vertical-align: middle;\n",
       "    }\n",
       "\n",
       "    .dataframe tbody tr th {\n",
       "        vertical-align: top;\n",
       "    }\n",
       "\n",
       "    .dataframe thead th {\n",
       "        text-align: right;\n",
       "    }\n",
       "</style>\n",
       "<table border=\"1\" class=\"dataframe\">\n",
       "  <thead>\n",
       "    <tr style=\"text-align: right;\">\n",
       "      <th></th>\n",
       "      <th>loan_amnt</th>\n",
       "      <th>int_rate</th>\n",
       "      <th>annual_inc</th>\n",
       "      <th>loan_status</th>\n",
       "      <th>open_acc</th>\n",
       "      <th>open_il_12m</th>\n",
       "    </tr>\n",
       "  </thead>\n",
       "  <tbody>\n",
       "    <tr>\n",
       "      <td>70642</td>\n",
       "      <td>12000</td>\n",
       "      <td>10.33</td>\n",
       "      <td>115000.0</td>\n",
       "      <td>Current</td>\n",
       "      <td>10.0</td>\n",
       "      <td>2.0</td>\n",
       "    </tr>\n",
       "    <tr>\n",
       "      <td>490788</td>\n",
       "      <td>20000</td>\n",
       "      <td>11.99</td>\n",
       "      <td>19200.0</td>\n",
       "      <td>Current</td>\n",
       "      <td>9.0</td>\n",
       "      <td>0.0</td>\n",
       "    </tr>\n",
       "    <tr>\n",
       "      <td>2081591</td>\n",
       "      <td>35000</td>\n",
       "      <td>18.25</td>\n",
       "      <td>153619.0</td>\n",
       "      <td>Charged Off</td>\n",
       "      <td>27.0</td>\n",
       "      <td>NaN</td>\n",
       "    </tr>\n",
       "    <tr>\n",
       "      <td>900431</td>\n",
       "      <td>8000</td>\n",
       "      <td>7.99</td>\n",
       "      <td>67000.0</td>\n",
       "      <td>Fully Paid</td>\n",
       "      <td>10.0</td>\n",
       "      <td>1.0</td>\n",
       "    </tr>\n",
       "    <tr>\n",
       "      <td>781582</td>\n",
       "      <td>17000</td>\n",
       "      <td>9.16</td>\n",
       "      <td>50000.0</td>\n",
       "      <td>Fully Paid</td>\n",
       "      <td>9.0</td>\n",
       "      <td>0.0</td>\n",
       "    </tr>\n",
       "  </tbody>\n",
       "</table>\n",
       "</div>"
      ],
      "text/plain": [
       "         loan_amnt  int_rate  annual_inc  loan_status  open_acc  open_il_12m\n",
       "70642        12000     10.33    115000.0      Current      10.0          2.0\n",
       "490788       20000     11.99     19200.0      Current       9.0          0.0\n",
       "2081591      35000     18.25    153619.0  Charged Off      27.0          NaN\n",
       "900431        8000      7.99     67000.0   Fully Paid      10.0          1.0\n",
       "781582       17000      9.16     50000.0   Fully Paid       9.0          0.0"
      ]
     },
     "execution_count": 30,
     "metadata": {},
     "output_type": "execute_result"
    }
   ],
   "source": [
    "use_cols = [\n",
    "    'loan_amnt', 'int_rate', 'annual_inc', 'open_acc', 'loan_status',\n",
    "    'open_il_12m'\n",
    "]\n",
    "\n",
    "data = pd.read_csv(\n",
    "'data/loan.csv', usecols=use_cols).sample(10000, random_state=44)\n",
    "data.head()"
   ]
  },
  {
   "cell_type": "markdown",
   "metadata": {},
   "source": [
    "## Continous variable"
   ]
  },
  {
   "cell_type": "code",
   "execution_count": 31,
   "metadata": {},
   "outputs": [
    {
     "data": {
      "text/plain": [
       "array([12000, 20000, 35000,  8000, 17000, 14000, 10000, 40000,  9000,\n",
       "       16000, 15000,  1500, 22000,  4000, 12800, 17100,  6600, 16250,\n",
       "        3575,  6000, 10200,  3825, 21600,  7000, 10925,  4800, 25000,\n",
       "       18325, 15025,  7150,  9600,  8400,  7500, 16125,  2000, 28100,\n",
       "       29000,  6400, 22800, 20800, 11325,  5000,  8575, 19125, 30400,\n",
       "        2800, 11875,  3600,  8500,  9800, 21000, 30800, 27225,  1450,\n",
       "       36000,  3500, 22650, 23550,  3300, 19200, 34975, 14400,  4475,\n",
       "        2300, 24000, 11000, 30000,  5400, 10400,  8850, 12375, 13600,\n",
       "       24875, 36425,  2400, 15600, 18900,  9875, 28000, 15225, 18000,\n",
       "        7200,  2500, 13975, 11075, 10975, 19000,  3200,  4500, 11200,\n",
       "       13000, 18500, 14125,  7325, 16800, 22150,  2700, 21900,  4900,\n",
       "        8250,  9500,  3000, 27625,  1600, 32000, 13550, 10550, 23000,\n",
       "       21550, 13500, 32350, 20875, 14925, 19500, 11150, 17025,  7800,\n",
       "        1200, 10050, 21100,  8725, 10850, 13200, 20700, 26000, 19600,\n",
       "       11500,  1000,  6350, 27125,  8800, 15375, 18775,  7250, 23025,\n",
       "       13150, 13100, 28500, 34500,  4200, 17250, 18625, 22525, 17625,\n",
       "        3875, 26750,  9175,  9350, 14500, 11550, 11575, 14250,  1800,\n",
       "       32675, 27000, 28775,  5200, 26875, 10800, 11525, 11975,  6025,\n",
       "        8875, 21275, 29325, 12500, 17500, 14375, 15950, 10150, 14425,\n",
       "       30375, 12325, 13450, 15875,  4775,  5500, 31300, 17775,  3400,\n",
       "       34625, 16725, 23225,  1400,  9450, 15350,  5300, 25050,  6100,\n",
       "       14850, 12175,  8775,  9525,  4600, 14550,  6625,  5600,  7550,\n",
       "        3700,  2200, 19950,  6800,  9725, 18950, 27400,  9200, 13825,\n",
       "        5275, 11800,  3650, 15075, 24900, 14975, 39150, 34000, 19925,\n",
       "       12525,  9750,  6500,  9125, 37000, 19525, 14900,  8375, 16500,\n",
       "       10075,  5950, 13075,  5725, 11300,  2900, 29175, 26025, 26600,\n",
       "        7925, 21525, 21850, 24025, 12925, 23100, 25200, 14700, 28975,\n",
       "       28350,  2975, 12300, 31000, 19300,  3750,  5250,  8075, 26400,\n",
       "       10575,  6150, 15100, 11625,  9025,  7900,  3625, 19250,  2750,\n",
       "       33525,  5425, 16375,  9100, 25475,  8100,  5225, 16200,  9925,\n",
       "       21325, 29275, 38000, 18225,  2425,  8650,  5775, 13900, 10725,\n",
       "        6550, 19800, 24950, 20725, 28800, 19350, 19850, 10450, 37950,\n",
       "       35125, 19975, 16100, 25500, 12600,  1700,  2950, 20200,  1675,\n",
       "       15125, 16750, 21200,  2650,  6900, 10500, 22450, 33750,  3100,\n",
       "       20575, 15400, 15925, 15450, 39425, 12950, 13475, 10625,  8975,\n",
       "        5800, 15500,  4400, 13575, 23300,  5325,  7050, 12075, 21975,\n",
       "        7125,  6300, 10025, 28250, 24600, 24075, 19750, 10125,  7375,\n",
       "        6700,  3250,  4850, 14300, 23200, 19050, 26500, 14725,  7600,\n",
       "       20350, 24500, 18875, 15550, 10600, 17150, 23250, 21750, 33000,\n",
       "       15175, 26700, 30500, 14775,  4050, 21250, 22400,  3925,  3025,\n",
       "       14575,  4150, 21650, 26550, 19475, 11700,  5900, 34800,  4125,\n",
       "       27050,  4375,  7675,  4725, 33425, 12200, 35500, 18725,  7700,\n",
       "       18300, 18600,  9900,  8900, 12700,  8050,  9150, 23950, 13675,\n",
       "       12225, 22750, 26050, 17050, 13225, 26975, 22575,  4950,  4525,\n",
       "        2600, 21725,  9300, 22500, 15800, 11275, 11400, 30675, 33025,\n",
       "        4700,  8675, 29825, 19725, 10375, 28550, 17600, 13250, 37500,\n",
       "        2050, 21475,  1425,  1350,  8200, 25600, 10250, 18050, 26375,\n",
       "        6850, 28950, 33325, 24475, 17200, 21500,  4625, 20400, 28425,\n",
       "       25750, 13350,  6725, 34925, 14825, 18925, 17700, 11850, 27600,\n",
       "       33825, 24375, 14225,  6650, 28475, 15675, 29900, 17925, 17975,\n",
       "       20500, 17225, 24200, 37250, 29800, 16175, 12400, 27675, 13125,\n",
       "       11250, 18275, 27950,  1825, 21825,  6675,  8350,  8700, 18250,\n",
       "        3150,  5100, 21425, 29700,  3525,  8325, 12025, 15525,  8825,\n",
       "       14050,  3675,  7750, 12675, 33500,  6950, 20925,  4750,  4275,\n",
       "        4350, 22200, 26850, 22475, 17950,  6250, 26800, 12625, 30750,\n",
       "       20425,  5125,  9825, 32550,  4300, 14150, 16425, 31900, 17350,\n",
       "       23800, 31200,  7450,  4650, 14100,  2100,  1300, 33600, 18450,\n",
       "       29500, 24850, 17650, 17450, 13925, 25400, 25900, 20175,  4250,\n",
       "        5925, 14025, 18550,  8275, 23075, 29600,  3475, 13800, 10875,\n",
       "        7075, 39075, 14950, 25775, 18200, 24125,  7475, 20750, 20125,\n",
       "       10300,  8600, 16450, 23825, 27500, 11350,  8125, 28300, 20450,\n",
       "        6225, 18825, 19650, 20300,  5750, 17425,  3800, 15750, 15200,\n",
       "       11900, 11125, 15850, 24650,  5575, 21950, 33575, 12750, 30600,\n",
       "       32875, 27300, 20675, 12725, 34475, 31050, 25300, 18125,  6325,\n",
       "        5050, 18675, 12050, 23500, 25450,  3225, 15250, 27200, 15050,\n",
       "        4325, 17400,  9700, 10325, 31500, 25250,  3900, 10100,  4575,\n",
       "        8425, 13700, 16525, 28200,  5875, 17275, 21375,  7025, 31600,\n",
       "       25875, 29750, 31475, 12100, 23400, 30150, 23600,  5825, 30350,\n",
       "        5675, 13275, 23850, 13875, 16550, 25975, 33775, 27550,  4825,\n",
       "       20600,  6175, 14325, 12850,  5350,  3725, 22675, 23050, 28625,\n",
       "        6825, 35100,  1100, 13775, 24150,  1950, 11600, 14600, 10175,\n",
       "        2850, 12825, 13375,  7850, 33950, 19575, 19875, 24800, 16075,\n",
       "       23750, 14475, 12575,  5150,  4175, 16600, 11825, 34250, 23450,\n",
       "       12275,  7425, 24350,  6475,  5650, 32200, 14675,  9325, 39475,\n",
       "       31800, 31450,  7225, 13050, 32825, 23700, 24925, 13950, 29375,\n",
       "       18400,  8550,  2725, 36350,  9950, 25375, 12975, 28175, 23725,\n",
       "       22425, 34900, 34200, 20075, 17125,  5375,  6075, 21125, 19275,\n",
       "       15825,  6425,  5975, 17525, 31575, 11750, 32150, 16300, 32975,\n",
       "        3125, 21075,  6375, 25100, 28900, 29400,  6200, 32500, 23425,\n",
       "        9400, 29075, 25850, 20850,  9250, 32425,  7525, 11025,  2825,\n",
       "       12475, 35450,  8750,  7400, 20225,  4100, 30225,  9575, 16700,\n",
       "        6525, 22875, 13750, 29450, 10475,  8925, 20275, 22075, 24750,\n",
       "        8225, 25150, 15625,  7275, 15300, 12150, 18350, 21350, 21450,\n",
       "        1050,  4225, 34350, 17850,  2250,  1125, 22100, 30475,  5700,\n",
       "       15975, 30725, 16950, 16150, 30125, 10750, 27525, 36550, 23275,\n",
       "       14525, 27175, 26150, 16975, 27475, 12775, 25325, 23375, 22125,\n",
       "       27650, 24575, 10775, 16900, 27325,  3075, 26225, 16275, 19700,\n",
       "       24450, 26325, 11950, 17325,  7350, 26625,  2875, 15475,  1275,\n",
       "       25925, 14750, 14275,  3950, 12250, 23875, 14625, 20975, 20475,\n",
       "       27575, 24625, 24825,  9975, 11675, 24250, 11100, 29975, 31325,\n",
       "       35700, 25800, 17675, 14450,  9850, 11450,  4550, 11425, 25575,\n",
       "        5175, 25725, 16650, 23350, 11650, 16225,  5550, 20775,  4075,\n",
       "        2475,  7875, 13175, 16925, 33400,  4975, 24225, 13400, 13850,\n",
       "       23475, 27925, 32475, 35400, 17900,  7975,  2125, 15150, 13425,\n",
       "       22250, 21150, 10900])"
      ]
     },
     "execution_count": 31,
     "metadata": {},
     "output_type": "execute_result"
    }
   ],
   "source": [
    "data.loan_amnt.unique()"
   ]
  },
  {
   "cell_type": "code",
   "execution_count": 32,
   "metadata": {},
   "outputs": [
    {
     "data": {
      "text/plain": [
       "Text(0, 0.5, 'Number of loans')"
      ]
     },
     "execution_count": 32,
     "metadata": {},
     "output_type": "execute_result"
    },
    {
     "data": {
      "image/png": "[encoded data removed]",
      "text/plain": [
       "<Figure size 432x288 with 1 Axes>"
      ]
     },
     "metadata": {
      "needs_background": "light"
     },
     "output_type": "display_data"
    }
   ],
   "source": [
    "fig = data.loan_amnt.hist(bins = 50)\n",
    "fig.set_title('Loan amoint requested')\n",
    "fig.set_xlabel('Loan amount')\n",
    "fig.set_ylabel('Number of loans')"
   ]
  },
  {
   "cell_type": "code",
   "execution_count": 33,
   "metadata": {},
   "outputs": [
    {
     "data": {
      "text/plain": [
       "array([10.33, 11.99, 18.25,  7.99,  9.16,  8.39, 16.91,  9.92, 11.39,\n",
       "        7.59, 15.31, 16.55,  9.93, 12.99,  7.26, 11.06, 10.99, 11.49,\n",
       "       12.29,  9.17,  8.46,  6.49, 12.62,  8.19,  7.49, 15.59, 11.44,\n",
       "       13.99, 17.97, 10.08, 13.67, 13.49, 13.59, 27.79, 15.96, 15.99,\n",
       "       13.35,  6.89, 19.92, 20.39,  9.99, 15.61,  6.67,  7.89, 18.99,\n",
       "       21.85, 12.69, 21.98, 11.47, 15.05, 12.12,  9.67,  6.11, 18.49,\n",
       "       16.29,  7.97, 14.09, 14.65, 14.33, 10.91, 16.01, 16.78, 12.73,\n",
       "       17.99, 22.2 ,  8.24, 10.56, 22.99, 14.49, 15.1 ,  6.62, 14.42,\n",
       "        5.32, 14.08, 14.99,  8.81, 21.99,  5.31, 12.39,  9.71, 11.55,\n",
       "        6.99, 15.49, 22.95, 26.3 , 11.03,  7.07,  7.21, 17.57, 22.35,\n",
       "       23.88, 24.49, 30.17, 16.02, 20.75, 10.16, 10.42,  9.43, 25.83,\n",
       "        7.84, 18.94,  9.44, 19.99, 15.04, 16.99, 17.27,  9.49, 24.08,\n",
       "        8.9 , 30.99, 11.48, 14.72, 17.86,  7.34, 16.14,  8.99, 22.4 ,\n",
       "        6.83,  5.93, 11.98,  8.08, 18.06, 13.56, 14.46, 10.15, 11.22,\n",
       "       21.  , 21.49, 10.47,  8.18, 13.53, 12.13, 17.77, 16.46, 10.75,\n",
       "       10.49, 11.8 , 14.47, 12.79, 12.85, 20.  ,  6.19, 24.85, 25.34,\n",
       "       13.33,  6.03, 27.27, 17.47, 13.18, 26.31, 20.89,  6.68, 12.98,\n",
       "       13.65, 19.03,  7.02,  6.97, 24.84,  6.24, 22.45, 17.56, 18.55,\n",
       "        6.07, 19.52, 14.64, 20.5 , 19.42,  7.9 , 11.53,  7.62, 22.15,\n",
       "       11.14,  7.56,  9.75,  7.69, 24.37, 11.67, 15.02, 20.99,  9.58,\n",
       "       28.72, 13.11, 17.09, 23.7 , 18.85, 23.87, 13.58, 13.66,  7.39,\n",
       "        6.  , 18.45, 14.03, 21.18, 30.49, 19.2 , 12.61,  7.91, 26.24,\n",
       "        6.92, 10.07,  8.38, 20.49, 13.61,  7.96, 28.69, 12.74,  8.67,\n",
       "       25.89,  7.35, 15.22,  6.08, 10.78, 30.84, 12.49, 21.45, 16.59,\n",
       "       29.49, 25.78, 12.42, 14.96, 18.2 , 13.98, 10.72, 21.67, 11.05,\n",
       "       10.65,  9.76,  9.8 , 12.88, 12.59, 24.99,  6.72, 20.2 , 16.2 ,\n",
       "       10.41,  8.59, 12.72, 25.82, 23.99, 13.06,  6.46, 19.16, 26.49,\n",
       "       10.62,  9.25,  7.46, 15.8 , 25.69, 24.5 ,  7.12, 10.9 , 23.83,\n",
       "       11.83, 23.4 , 25.81,  6.39, 19.72,  7.24, 18.75, 23.5 , 23.13,\n",
       "       16.08, 19.89, 15.21, 17.14, 25.88, 14.31, 15.88, 15.77, 14.52,\n",
       "       30.75, 22.47, 14.79, 14.07, 30.94,  8.49, 19.19, 10.74, 19.22,\n",
       "       21.48, 22.74, 15.41, 15.65, 13.44, 22.39, 29.99, 26.06, 23.1 ,\n",
       "       11.11, 14.26, 22.9 ,  8.6 , 25.57, 14.16, 10.37, 17.1 , 11.36,\n",
       "       24.74, 12.35, 21.97, 18.62, 23.63, 25.8 , 25.49, 11.12, 16.32,\n",
       "       23.43, 18.24, 17.76,  6.91, 14.98, 30.79, 12.84, 14.48, 12.53,\n",
       "        6.71, 14.85, 18.92, 25.29, 14.3 , 11.71, 27.34, 24.11, 15.62,\n",
       "       28.99, 10.64, 19.24, 19.47, 11.31, 13.05, 18.54, 19.29, 13.72,\n",
       "       13.79, 11.58, 29.69, 16.49,  8.94, 28.18, 30.65,  6.54, 14.59,\n",
       "       16.24,  6.17, 10.38, 23.76, 12.05, 13.85,  9.91, 21.7 , 14.35,\n",
       "       20.62, 16.28, 15.95,  5.42,  6.76, 19.53, 13.23, 27.49, 25.99,\n",
       "       19.05, 21.6 , 26.77, 13.22, 28.88,  7.14, 25.11, 14.91,  9.33,\n",
       "       10.  , 12.18, 18.79,  9.51, 21.15, 22.91, 29.96,  7.68, 15.68,\n",
       "       17.58, 15.27, 12.22, 20.8 , 13.68, 16.45, 26.57,  7.66,  9.32,\n",
       "       11.26, 19.48,  7.29, 12.87, 16.82, 18.84, 23.32, 14.38, 23.28,\n",
       "       10.39, 24.83, 13.8 , 16.4 , 20.25, 25.65, 13.12, 13.57, 28.49,\n",
       "       15.81,  7.51,  8.  , 24.89, 12.68, 19.69, 30.89, 17.74, 23.26,\n",
       "       20.31, 17.43, 16.77, 15.57, 13.16, 25.09])"
      ]
     },
     "execution_count": 33,
     "metadata": {},
     "output_type": "execute_result"
    }
   ],
   "source": [
    "data.int_rate.unique()"
   ]
  },
  {
   "cell_type": "code",
   "execution_count": 34,
   "metadata": {},
   "outputs": [
    {
     "data": {
      "text/plain": [
       "Text(0, 0.5, 'Number of loans')"
      ]
     },
     "execution_count": 34,
     "metadata": {},
     "output_type": "execute_result"
    },
    {
     "data": {
      "image/png": "[encoded data removed]",
      "text/plain": [
       "<Figure size 432x288 with 1 Axes>"
      ]
     },
     "metadata": {
      "needs_background": "light"
     },
     "output_type": "display_data"
    }
   ],
   "source": [
    "fig = data.int_rate.hist(bins=30)\n",
    "fig.set_title = ('Interest rate')\n",
    "fig.set_xlabel('interest rate')\n",
    "fig.set_ylabel('Number of loans')"
   ]
  },
  {
   "cell_type": "code",
   "execution_count": 11,
   "metadata": {},
   "outputs": [
    {
     "data": {
      "text/plain": [
       "array([115000.  ,  19200.  , 153619.  ,  67000.  ,  50000.  ,  52000.  ,\n",
       "        45000.  ,  90000.  ,  40500.  , 145000.  ,  51000.  ,  55000.  ,\n",
       "        49000.  ,  70000.  ,  85000.  ,  65000.  ,  30000.  ,  54000.  ,\n",
       "        75000.  ,  83000.  , 100000.  ,  78000.  ,  40000.  ,  41000.  ,\n",
       "       190000.  ,  35000.  ,  28500.  , 112000.  ,  37900.  , 101000.  ,\n",
       "        58000.  ,  23382.  , 315000.  ,  39520.  ,  33000.  ,  44000.  ,\n",
       "        32000.  ,  98000.  ,  89000.  ,  60000.  ,  77000.  ,  87000.  ,\n",
       "       140000.  ,  45600.  ,  45347.6 ,  59000.  ,  75556.  ,  77800.  ,\n",
       "       106000.  , 115600.  ,  36500.  ,  81000.  , 250000.  , 144500.  ,\n",
       "        36000.  ,  80000.  ,  43196.  ,  78300.  ,  50232.  ,  20000.  ,\n",
       "        38800.  ,  99000.  ,  22000.  ,  95000.  ,  38000.  , 110000.  ,\n",
       "        62000.  , 142000.  ,  42000.  , 120000.  ,  11600.  ,  43500.  ,\n",
       "       126800.  , 138650.  ,  66000.  ,  39000.  , 105000.  , 102000.  ,\n",
       "       160290.  ,  72000.  ,  53000.  , 165000.  , 325000.  , 102500.  ,\n",
       "        43000.  ,  36096.  ,  37500.  ,  46000.  ,  86850.  ,  91000.  ,\n",
       "       175000.  , 123234.  ,  35870.  ,  34000.  ,  25000.  , 118000.  ,\n",
       "        79000.  ,  68000.  ,  32500.  ,  60060.  ,  23880.  ,  74000.  ,\n",
       "       144000.  ,  12000.  ,  40627.  ,  22500.  ,  88000.  , 104000.  ,\n",
       "        29000.  , 102411.  ,      0.  ,  36400.  ,  65800.  ,  19000.  ,\n",
       "        48378.  ,  34549.  , 500000.  ,  31828.  ,  84000.  , 150000.  ,\n",
       "        64000.  ,  86000.  ,  69000.  ,  31044.  ,  47000.  ,  34820.  ,\n",
       "       125000.  ,  24000.  ,  76000.  ,  29462.4 ,  26000.  ,  35592.  ,\n",
       "        82000.  ,  26244.  ,  23000.  ,  33600.  , 231000.  ,  61000.  ,\n",
       "        66273.63, 137000.  ,  37000.  ,  73000.  ,  71500.  , 130000.  ,\n",
       "        83200.  ,  36196.  , 450000.  ,  62100.  ,  31000.  , 100500.  ,\n",
       "        97500.  , 102996.  ,  92686.  ,  63000.  ,  76245.  ,  74900.  ,\n",
       "        56000.  , 153000.  , 113312.  , 204000.  , 116000.  , 281000.  ,\n",
       "        42500.  ,  68879.  ,  57000.  , 220000.  ,  33500.  ,  96000.  ,\n",
       "        37989.  , 180000.  ,  28000.  , 157000.  ,  92000.  , 300000.  ,\n",
       "       123500.  , 146104.  ,  34104.  , 135000.  , 122000.  , 200000.  ,\n",
       "       199000.  , 169250.  ,  65456.23,  37700.  , 155000.  ,  27000.  ,\n",
       "        96800.  , 104600.  ,  36640.  ,  18000.  ,  71000.  , 107302.  ,\n",
       "        47953.13, 118300.  ,  48048.  , 108000.  ,  41600.  , 230000.  ,\n",
       "        71432.  , 225000.  ,  55680.  , 660000.  ,  50307.  ,  93000.  ,\n",
       "        50005.  ,  57600.  , 600000.  , 128500.  ,  30760.  , 400000.  ,\n",
       "       117000.  ,  38400.  , 170210.  , 185000.  , 124500.  ,  96600.  ,\n",
       "        38525.  , 136000.  ,  82500.  ,  87650.  ,  50960.  ,  69500.  ,\n",
       "        35568.  ,  61500.  , 118500.  ,  48000.  ,  19380.  , 156192.  ,\n",
       "        53422.  , 146200.  ,  97000.  , 208500.  ,  35040.  , 111528.  ,\n",
       "        55308.  ,  25056.  , 131000.  ,  27500.  ,  30333.  ,  92200.  ,\n",
       "        83233.  ,  75718.  ,  49900.  ,  70592.  ,  51450.  , 111144.  ,\n",
       "        82600.  ,  10000.  , 113000.  ,   9000.  ,  53654.88, 160000.  ,\n",
       "       103000.  ,  21000.  ,  64497.  ,  39996.  ,  94035.  , 101361.  ,\n",
       "        57500.  , 330000.  ,  40683.  ,  84150.  ,  78529.  ,  59500.  ,\n",
       "        34560.  ,  25015.  , 114000.  , 129863.  , 107876.  , 106652.  ,\n",
       "        27029.  ,  62900.  , 107000.  , 191500.  ,  40578.  , 156400.  ,\n",
       "       145808.  ,  58800.  ,  51920.  ,  65225.  ,  92500.  , 650000.  ,\n",
       "       138000.  ,  44500.  , 240000.  ,  62500.  , 115500.  ,  49431.  ,\n",
       "        49965.  ,  98500.  ,  50112.  ,  27872.  ,  59920.  , 124000.  ,\n",
       "        38500.  ,  35360.  , 550000.  ,  38550.  ,  60954.  ,  86500.  ,\n",
       "        58650.  ])"
      ]
     },
     "execution_count": 11,
     "metadata": {},
     "output_type": "execute_result"
    }
   ],
   "source": [
    "data.annual_inc.unique()"
   ]
  },
  {
   "cell_type": "code",
   "execution_count": 35,
   "metadata": {},
   "outputs": [
    {
     "data": {
      "text/plain": [
       "Text(0, 0.5, 'Number of customers')"
      ]
     },
     "execution_count": 35,
     "metadata": {},
     "output_type": "execute_result"
    },
    {
     "data": {
      "image/png": "[encoded data removed]",
      "text/plain": [
       "<Figure size 432x288 with 1 Axes>"
      ]
     },
     "metadata": {
      "needs_background": "light"
     },
     "output_type": "display_data"
    }
   ],
   "source": [
    "fig = data.annual_inc.hist(bins=50)\n",
    "fig.set_xlim(0, 400000)\n",
    "fig.set_title('Annual income')\n",
    "fig.set_xlabel('Annual income')\n",
    "fig.set_ylabel('Number of customers')"
   ]
  },
  {
   "cell_type": "markdown",
   "metadata": {},
   "source": [
    "### Discrete variables"
   ]
  },
  {
   "cell_type": "code",
   "execution_count": 36,
   "metadata": {},
   "outputs": [
    {
     "data": {
      "text/plain": [
       "array([10.,  9., 27., 12.,  5., 19., 11., 14.,  8., 24., 15.,  7., 26.,\n",
       "       22., 18., 21., 16., 17., 25., 23.,  4.,  6., 30.,  3., 31., 13.,\n",
       "       28., 20., 29., 37.,  1., 35., 36., 44.,  2., 34., 39., 33., 32.,\n",
       "       38., 40., 47., 46., 48., 43.,  0., 56., 42.])"
      ]
     },
     "execution_count": 36,
     "metadata": {},
     "output_type": "execute_result"
    }
   ],
   "source": [
    "data.open_acc.dropna().unique()"
   ]
  },
  {
   "cell_type": "code",
   "execution_count": 37,
   "metadata": {},
   "outputs": [
    {
     "data": {
      "text/plain": [
       "Text(0, 0.5, 'Number of customers')"
      ]
     },
     "execution_count": 37,
     "metadata": {},
     "output_type": "execute_result"
    },
    {
     "data": {
      "image/png": "[encoded data removed]",
      "text/plain": [
       "<Figure size 432x288 with 1 Axes>"
      ]
     },
     "metadata": {
      "needs_background": "light"
     },
     "output_type": "display_data"
    }
   ],
   "source": [
    "fig = data.open_acc.hist(bins=100)\n",
    "fig.set_xlim(0, 30)\n",
    "fig.set_title('number of open accounts')\n",
    "fig.set_xlabel('Number of open accounts')\n",
    "fig.set_ylabel('Number of customers')"
   ]
  },
  {
   "cell_type": "code",
   "execution_count": 38,
   "metadata": {},
   "outputs": [
    {
     "data": {
      "text/plain": [
       "array([ 2.,  0., nan,  1.,  3.,  5.,  4.,  6.,  7.])"
      ]
     },
     "execution_count": 38,
     "metadata": {},
     "output_type": "execute_result"
    }
   ],
   "source": [
    "data.open_il_12m.unique()"
   ]
  },
  {
   "cell_type": "code",
   "execution_count": 39,
   "metadata": {},
   "outputs": [
    {
     "data": {
      "text/plain": [
       "Text(0, 0.5, 'Number of borrowers')"
      ]
     },
     "execution_count": 39,
     "metadata": {},
     "output_type": "execute_result"
    },
    {
     "data": {
      "image/png": "[encoded data removed]",
      "text/plain": [
       "<Figure size 432x288 with 1 Axes>"
      ]
     },
     "metadata": {
      "needs_background": "light"
     },
     "output_type": "display_data"
    }
   ],
   "source": [
    "fig = data.open_il_12m.hist(bins=50)\n",
    "fig.set_title('Number of installements accoinst open in past 12 months')\n",
    "fig.set_xlabel('Number of installements accoinst open in past 12 months')\n",
    "fig.set_ylabel('Number of borrowers')"
   ]
  },
  {
   "cell_type": "markdown",
   "metadata": {},
   "source": [
    "### binary variables\n",
    "discrete variables that can take only 2 values."
   ]
  },
  {
   "cell_type": "code",
   "execution_count": 42,
   "metadata": {},
   "outputs": [
    {
     "data": {
      "text/plain": [
       "array(['Current', 'Charged Off', 'Fully Paid',\n",
       "       'Does not meet the credit policy. Status:Fully Paid',\n",
       "       'Late (16-30 days)', 'Late (31-120 days)', 'In Grace Period',\n",
       "       'Does not meet the credit policy. Status:Charged Off'],\n",
       "      dtype=object)"
      ]
     },
     "execution_count": 42,
     "metadata": {},
     "output_type": "execute_result"
    }
   ],
   "source": [
    "data.loan_status.unique()"
   ]
  },
  {
   "cell_type": "code",
   "execution_count": 43,
   "metadata": {},
   "outputs": [
    {
     "data": {
      "text/plain": [
       "0.0"
      ]
     },
     "execution_count": 43,
     "metadata": {},
     "output_type": "execute_result"
    }
   ],
   "source": [
    "data['defaulted'] = np.where(data.loan_status.isin(['Default']), 1, 0)\n",
    "data.defaulted.mean()"
   ]
  },
  {
   "cell_type": "code",
   "execution_count": 44,
   "metadata": {},
   "outputs": [
    {
     "data": {
      "text/html": [
       "<div>\n",
       "<style scoped>\n",
       "    .dataframe tbody tr th:only-of-type {\n",
       "        vertical-align: middle;\n",
       "    }\n",
       "\n",
       "    .dataframe tbody tr th {\n",
       "        vertical-align: top;\n",
       "    }\n",
       "\n",
       "    .dataframe thead th {\n",
       "        text-align: right;\n",
       "    }\n",
       "</style>\n",
       "<table border=\"1\" class=\"dataframe\">\n",
       "  <thead>\n",
       "    <tr style=\"text-align: right;\">\n",
       "      <th></th>\n",
       "      <th>loan_amnt</th>\n",
       "      <th>int_rate</th>\n",
       "      <th>annual_inc</th>\n",
       "      <th>loan_status</th>\n",
       "      <th>open_acc</th>\n",
       "      <th>open_il_12m</th>\n",
       "      <th>defaulted</th>\n",
       "    </tr>\n",
       "  </thead>\n",
       "  <tbody>\n",
       "    <tr>\n",
       "      <td>2257342</td>\n",
       "      <td>20000</td>\n",
       "      <td>9.93</td>\n",
       "      <td>36000.0</td>\n",
       "      <td>Current</td>\n",
       "      <td>14.0</td>\n",
       "      <td>0.0</td>\n",
       "      <td>0</td>\n",
       "    </tr>\n",
       "    <tr>\n",
       "      <td>1733591</td>\n",
       "      <td>9500</td>\n",
       "      <td>12.35</td>\n",
       "      <td>52000.0</td>\n",
       "      <td>Fully Paid</td>\n",
       "      <td>15.0</td>\n",
       "      <td>NaN</td>\n",
       "      <td>0</td>\n",
       "    </tr>\n",
       "    <tr>\n",
       "      <td>1527805</td>\n",
       "      <td>12800</td>\n",
       "      <td>7.07</td>\n",
       "      <td>81000.0</td>\n",
       "      <td>Fully Paid</td>\n",
       "      <td>10.0</td>\n",
       "      <td>0.0</td>\n",
       "      <td>0</td>\n",
       "    </tr>\n",
       "    <tr>\n",
       "      <td>548574</td>\n",
       "      <td>13000</td>\n",
       "      <td>16.99</td>\n",
       "      <td>52000.0</td>\n",
       "      <td>Fully Paid</td>\n",
       "      <td>34.0</td>\n",
       "      <td>0.0</td>\n",
       "      <td>0</td>\n",
       "    </tr>\n",
       "    <tr>\n",
       "      <td>676512</td>\n",
       "      <td>8000</td>\n",
       "      <td>5.32</td>\n",
       "      <td>150000.0</td>\n",
       "      <td>Current</td>\n",
       "      <td>5.0</td>\n",
       "      <td>0.0</td>\n",
       "      <td>0</td>\n",
       "    </tr>\n",
       "  </tbody>\n",
       "</table>\n",
       "</div>"
      ],
      "text/plain": [
       "         loan_amnt  int_rate  annual_inc loan_status  open_acc  open_il_12m  \\\n",
       "2257342      20000      9.93     36000.0     Current      14.0          0.0   \n",
       "1733591       9500     12.35     52000.0  Fully Paid      15.0          NaN   \n",
       "1527805      12800      7.07     81000.0  Fully Paid      10.0          0.0   \n",
       "548574       13000     16.99     52000.0  Fully Paid      34.0          0.0   \n",
       "676512        8000      5.32    150000.0     Current       5.0          0.0   \n",
       "\n",
       "         defaulted  \n",
       "2257342          0  \n",
       "1733591          0  \n",
       "1527805          0  \n",
       "548574           0  \n",
       "676512           0  "
      ]
     },
     "execution_count": 44,
     "metadata": {},
     "output_type": "execute_result"
    }
   ],
   "source": [
    "data.tail()"
   ]
  },
  {
   "cell_type": "code",
   "execution_count": 45,
   "metadata": {},
   "outputs": [
    {
     "data": {
      "text/plain": [
       "array([0])"
      ]
     },
     "execution_count": 45,
     "metadata": {},
     "output_type": "execute_result"
    }
   ],
   "source": [
    "data.defaulted.unique()"
   ]
  },
  {
   "cell_type": "code",
   "execution_count": 46,
   "metadata": {},
   "outputs": [
    {
     "data": {
      "text/plain": [
       "Text(0, 0.5, 'NUmber of loans')"
      ]
     },
     "execution_count": 46,
     "metadata": {},
     "output_type": "execute_result"
    },
    {
     "data": {
      "image/png": "[encoded data removed]",
      "text/plain": [
       "<Figure size 432x288 with 1 Axes>"
      ]
     },
     "metadata": {
      "needs_background": "light"
     },
     "output_type": "display_data"
    }
   ],
   "source": [
    "fig = data.defaulted.hist()\n",
    "fig.set_xlim(0, 2)\n",
    "fig.set_title('Defaulted accounts')\n",
    "fig.set_xlabel('Defaulted')\n",
    "fig.set_ylabel('NUmber of loans')"
   ]
  },
  {
   "cell_type": "code",
   "execution_count": null,
   "metadata": {},
   "outputs": [],
   "source": []
  },
  {
   "cell_type": "code",
   "execution_count": null,
   "metadata": {},
   "outputs": [],
   "source": []
  }
 ],
 "metadata": {
  "kernelspec": {
   "display_name": "Python 3",
   "language": "python",
   "name": "python3"
  },
  "language_info": {
   "codemirror_mode": {
    "name": "ipython",
    "version": 3
   },
   "file_extension": ".py",
   "mimetype": "text/x-python",
   "name": "python",
   "nbconvert_exporter": "python",
   "pygments_lexer": "ipython3",
   "version": "3.7.4"
  }
 },
 "nbformat": 4,
 "nbformat_minor": 2
}
